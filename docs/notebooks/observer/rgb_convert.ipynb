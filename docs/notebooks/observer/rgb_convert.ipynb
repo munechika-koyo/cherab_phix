{
 "cells": [
  {
   "attachments": {},
   "cell_type": "markdown",
   "metadata": {},
   "source": [
    "Convert RGB to incident power\n",
    "==="
   ]
  },
  {
   "attachments": {},
   "cell_type": "markdown",
   "metadata": {},
   "source": [
    "Diffinition\n",
    "---\n",
    "As usual, a fast visible camera generates R, G, B values at each pixel which has a specific sensitivity to the wavelength. So, To evaluate the tomographic emission profile with the physical\n",
    "energy unit, we need to estimate the incident power into each pixel from the RGB value.\n",
    "\n",
    "Each pixel data captured by the fast camera installed at PHiX, Phantom LAB 110, follows the simplified formula below:\n",
    "\n",
    "$$\n",
    "\\begin{align}\n",
    "\\text{DN} = \\frac{t}{6.15\\times 10^{-9} A}\\int_{\\mathbb{R}} \\mathrm{d}\\lambda\\; S(\\lambda)P(\\lambda),\n",
    "\\end{align}\n",
    "$$\n",
    "\n",
    "where,\n",
    "\n",
    "- DN: sensor response (in digital number, 12bits, from 0-4095),\n",
    "- $t$: exposure time set in camera (in second).\n",
    "- $A$: the area of laser beam throwing on the sensor array ( in $\\mathrm{m}^2$),\n",
    "- $\\lambda$: wavelength (in nm),\n",
    "- $S(\\lambda)$: spectral response at a specific wavelength (in A/W),\n",
    "- $P(\\lambda)$: the incident spectral power (in watt per nm).\n",
    "\n",
    "Considering only $\\text{H}_\\alpha$, $\\text{H}_\\beta$ and $\\text{H}_\\gamma$ spectral incident power $P(\\lambda)$ because they dominates the PHiX experiments, we can calculate R value as follows:\n",
    "$$\n",
    "\\begin{align}\n",
    "R & = \\frac{t \\times 10^9}{6.15 A}\\sum_{x=\\alpha, \\beta, \\gamma} \\int_{\\varDelta\\lambda_x} \\mathrm{d}\\lambda S_R(\\lambda)P(\\lambda)\\\\\n",
    "&\\approx \\frac{t \\times 10^9}{6.15 A}\\sum_{x=\\alpha, \\beta, \\gamma}S_R(\\lambda_x) P_x, \\left( \\text{where }P_x \\equiv \\int_{\\varDelta \\lambda_x}\\mathrm{d}\\lambda P(\\lambda) \\right)\n",
    "\\end{align}\n",
    "$$\n",
    "where, $S_R$ is the spectral response of R filter and $\\varDelta\\lambda_x$ is a wavelength range near the corresponding emission line. The last line assumes that $S_R$ is constant with $S_R(\\lambda_x)$ around the corresponding line emission.\n",
    "\n",
    "Applying the above expression to the other color value (G, B), the following linear equation is derived:\n",
    "\n",
    "$$\n",
    "\\begin{pmatrix}\n",
    "R\\\\\n",
    "G\\\\\n",
    "B\\\\\n",
    "\\end{pmatrix}\n",
    "=\\frac{t \\times 10^9}{6.15 A}\n",
    "\\begin{pmatrix}\n",
    "S_R(\\lambda_\\alpha) & S_R(\\lambda_\\beta) & S_R(\\lambda_\\gamma)\\\\\n",
    "S_G(\\lambda_\\alpha) & S_G(\\lambda_\\beta) & S_G(\\lambda_\\gamma)\\\\\n",
    "S_B(\\lambda_\\alpha) & S_B(\\lambda_\\beta) & S_B(\\lambda_\\gamma)\\\\\n",
    "\\end{pmatrix}\n",
    "\\begin{pmatrix}\n",
    "P_\\alpha\\\\\n",
    "P_\\beta\\\\\n",
    "P_\\gamma\\\\\n",
    "\\end{pmatrix}.\n",
    "$$\n",
    "\n",
    "Therefore, solving the above linear equation allows us to calculate each incident power."
   ]
  },
  {
   "cell_type": "code",
   "execution_count": null,
   "metadata": {},
   "outputs": [],
   "source": [
    "from pathlib import Path\n",
    "\n",
    "import numpy as np\n",
    "from matplotlib import pyplot as plt\n",
    "from mpl_toolkits.axes_grid1 import ImageGrid\n",
    "\n",
    "from cherab.phix.observer.fast_camera.colour import filter_b, filter_g, filter_r, plot_RGB_filter\n",
    "\n",
    "RGB_DATA = Path().cwd().parent / \"data\" / \"experiment\" / \"shot_17393_raw.npy\""
   ]
  },
  {
   "cell_type": "markdown",
   "metadata": {},
   "source": [
    "Plot the RGB sensitivity with $\\text{H}_\\alpha$, $\\text{H}_\\beta$, $\\text{H}_\\gamma$ lines\n",
    "---\n",
    "Let us plot RGB sensitivity data which is given by the company."
   ]
  },
  {
   "cell_type": "code",
   "execution_count": null,
   "metadata": {},
   "outputs": [],
   "source": [
    "# wavelength corresponding to each hydrogen balmer line\n",
    "H_ALPHA = (655.6 + 656.8) * 0.5\n",
    "H_BETA = (485.6 + 486.5) * 0.5\n",
    "H_GAMMA = (433.6 + 434.4) * 0.5"
   ]
  },
  {
   "cell_type": "code",
   "execution_count": null,
   "metadata": {},
   "outputs": [],
   "source": [
    "fig, ax = plt.subplots(dpi=150)\n",
    "wavelengths = np.linspace(400, 710, 500)\n",
    "\n",
    "# plot sensitivity\n",
    "fig, ax = plot_RGB_filter(wavelengths, fig=fig, ax=ax)\n",
    "ax.legend(loc=\"center right\")\n",
    "\n",
    "# plot hydrogen balmers\n",
    "for wavelength, color, symbol in zip(\n",
    "    [H_ALPHA, H_BETA, H_GAMMA], [\"m\", \"g\", \"b\"], [\"\\\\alpha\", \"\\\\beta\", \"\\\\gamma\"]\n",
    "):\n",
    "    ax.plot([wavelength, wavelength], [0, 0.2], color=color, linestyle=\"dashed\", linewidth=0.75)\n",
    "    ax.text(wavelength * 1.005, 0.16, f\"$\\\\mathrm{{H}}_{symbol}$\\n{wavelength:.1f} nm\", color=color)\n",
    "\n",
    "ax.set_ylim(0, 0.19)\n",
    "ax.set_xlim(wavelengths[0], wavelengths[-1]);"
   ]
  },
  {
   "cell_type": "markdown",
   "metadata": {},
   "source": [
    "Convert 12bit RGB data\n",
    "---\n",
    "Let us convert RGB experimental image."
   ]
  },
  {
   "cell_type": "markdown",
   "metadata": {},
   "source": [
    "Firstly let's show the original image data."
   ]
  },
  {
   "cell_type": "code",
   "execution_count": null,
   "metadata": {},
   "outputs": [],
   "source": [
    "# Load data\n",
    "rgb_image = np.load(RGB_DATA)\n",
    "\n",
    "# show image\n",
    "fig = plt.figure(dpi=150)\n",
    "grids = ImageGrid(fig, 111, (1, 3), cbar_mode=\"single\", cbar_pad=0.0, axes_pad=0.02)\n",
    "for i, label in enumerate([\"R\", \"G\", \"B\"]):\n",
    "    grids[i].imshow(rgb_image[:, :, i], cmap=\"viridis\", vmax=np.amax(rgb_image), vmin=0)\n",
    "    grids[i].set_title(label)\n",
    "    grids[i].set_xlabel(\"width\")\n",
    "grids[0].set_ylabel(\"height\")\n",
    "cbar = plt.colorbar(grids[0].images[-1], cax=grids.cbar_axes[0])\n",
    "cbar.set_label(\"12bit [a.u.]\")"
   ]
  },
  {
   "attachments": {},
   "cell_type": "markdown",
   "metadata": {},
   "source": [
    "Then, construct a spectrum $\\rightarrow$ RGB values matrix."
   ]
  },
  {
   "cell_type": "code",
   "execution_count": null,
   "metadata": {},
   "outputs": [],
   "source": [
    "# Spectrum -> RGB matrix [A]\n",
    "spectrum_to_rgb = np.array(\n",
    "    [\n",
    "        [filter_r(H_ALPHA), filter_r(H_BETA), filter_r(H_GAMMA)],\n",
    "        [filter_g(H_ALPHA), filter_g(H_BETA), filter_g(H_GAMMA)],\n",
    "        [filter_b(H_ALPHA), filter_b(H_BETA), filter_b(H_GAMMA)],\n",
    "    ],\n",
    "    dtype=np.float64,\n",
    ")"
   ]
  },
  {
   "attachments": {},
   "cell_type": "markdown",
   "metadata": {},
   "source": [
    "Solve the linear equation at each pixel."
   ]
  },
  {
   "cell_type": "code",
   "execution_count": null,
   "metadata": {},
   "outputs": [],
   "source": [
    "dt = 99e-6  # [sec]\n",
    "A_1px = 20e-6 * 20e-6  # [m^2]\n",
    "\n",
    "spectrum_image = np.zeros_like(rgb_image, dtype=np.float64)\n",
    "\n",
    "for x in range(rgb_image.shape[0]):\n",
    "    for y in range(rgb_image.shape[1]):\n",
    "        spectrum_image[x, y, :] = np.linalg.solve(\n",
    "            spectrum_to_rgb, rgb_image[x, y, :] * 6.15e-9 * A_1px / dt\n",
    "        )"
   ]
  },
  {
   "attachments": {},
   "cell_type": "markdown",
   "metadata": {},
   "source": [
    "Show the solution"
   ]
  },
  {
   "cell_type": "code",
   "execution_count": null,
   "metadata": {},
   "outputs": [],
   "source": [
    "from matplotlib.colors import CenteredNorm\n",
    "\n",
    "fig = plt.figure(dpi=150)\n",
    "grids = ImageGrid(fig, 111, (1, 3), cbar_mode=\"each\", cbar_pad=0.0, axes_pad=0.7)\n",
    "for i, symbol in enumerate([\"\\\\alpha\", \"\\\\beta\", \"\\\\gamma\"]):\n",
    "    grids[i].imshow(spectrum_image[:, :, i] / A_1px, cmap=\"bwr\", norm=CenteredNorm())\n",
    "    grids[i].set_title(f\"$P_{symbol}$\")\n",
    "    grids[i].set_xlabel(\"width\")\n",
    "    cbar = plt.colorbar(grids[i].images[0], cax=grids.cbar_axes[i])\n",
    "grids[0].set_ylabel(\"height\")\n",
    "cbar.set_label(\"Irradiance [W/m$^2$]\")"
   ]
  },
  {
   "attachments": {},
   "cell_type": "markdown",
   "metadata": {},
   "source": [
    "Plot each irradiance values at width 128 px."
   ]
  },
  {
   "cell_type": "code",
   "execution_count": null,
   "metadata": {
    "tags": [
     "nbsphinx-thumbnail"
    ]
   },
   "outputs": [],
   "source": [
    "for i, color, symbol in zip(range(3), [\"m\", \"g\", \"b\"], [\"\\\\alpha\", \"\\\\beta\", \"\\\\gamma\"]):\n",
    "    plt.plot(spectrum_image[:, 128, i] / A_1px, color=color, label=f\"$P_{symbol}$\", zorder=1)\n",
    "plt.plot([0, 512], [0, 0], \"--k\", linewidth=0.7, zorder=0)\n",
    "plt.xlim(0, 512)\n",
    "plt.legend()\n",
    "plt.xlabel(\"height [px]\")\n",
    "plt.ylabel(\"Irradiance [W/m$^2$]\")\n",
    "plt.title(\"at width: 128[px]\");"
   ]
  },
  {
   "attachments": {},
   "cell_type": "markdown",
   "metadata": {},
   "source": [
    "The results show that $P_\\gamma$ reconstruction did not work well because the negative values dominates.\n",
    "However, the rest of the solutions are relatively reconstructed well."
   ]
  }
 ],
 "metadata": {
  "kernelspec": {
   "display_name": "cherab-phix-dev",
   "language": "python",
   "name": "python3"
  },
  "language_info": {
   "codemirror_mode": {
    "name": "ipython",
    "version": 3
   },
   "file_extension": ".py",
   "mimetype": "text/x-python",
   "name": "python",
   "nbconvert_exporter": "python",
   "pygments_lexer": "ipython3",
   "version": "3.9.15 | packaged by conda-forge | (main, Nov 22 2022, 15:55:03) \n[GCC 10.4.0]"
  },
  "vscode": {
   "interpreter": {
    "hash": "2725905a4c02db19e04df9b8fdbbe5ec65a73ea52bebaf9474aa1cc98819834c"
   }
  },
  "widgets": {
   "application/vnd.jupyter.widget-state+json": {
    "state": {},
    "version_major": 2,
    "version_minor": 0
   }
  }
 },
 "nbformat": 4,
 "nbformat_minor": 4
}
