{
 "cells": [
  {
   "attachments": {},
   "cell_type": "markdown",
   "metadata": {},
   "source": [
    "Convert RGB to incident power\n",
    "==="
   ]
  },
  {
   "attachments": {},
   "cell_type": "markdown",
   "metadata": {},
   "source": [
    "## Diffinition\n",
    "\n",
    "As usual, a fast visible camera generates R, G, B values at each pixel which has a specific sensitivity to the wavelength. So, To evaluate the tomographic emission profile with the physical\n",
    "energy unit, we need to estimate the incident power into each pixel from the RGB value.\n",
    "\n",
    "Each pixel data captured by the fast camera installed at PHiX, Phantom LAB 110, follows the simplified formula below:\n",
    "\n",
    "$$\n",
    "\\begin{align}\n",
    "D = \\frac{t}{6.15\\times 10^{-9} A}\\int_{\\mathbb{R}} \\mathrm{d}\\lambda\\; S(\\lambda)P(\\lambda),\n",
    "\\end{align}\n",
    "$$\n",
    "\n",
    "where,\n",
    "\n",
    "- $D$: sensor response (in digital number, 12bits, from 0-4095),\n",
    "- $t$: exposure time set in camera (in second).\n",
    "- $A$: the area of laser beam throwing on the sensor array ( in $\\mathrm{m}^2$),\n",
    "- $\\lambda$: wavelength (in nm),\n",
    "- $S(\\lambda)$: spectral response at a specific wavelength (in A/W),\n",
    "- $P(\\lambda)$: the incident spectral power (in watt per nm).\n",
    "\n",
    "Considering only Hα, Hβ and Hγ balmer-series spectral incident power $P(\\lambda)$ because they dominates the PHiX experiments, we can calculate the red digital value as follows:\n",
    "\n",
    "$$\n",
    "\\begin{align}\n",
    "D_\\text{R} & = \\frac{t \\times 10^9}{6.15 A}\\sum_{x=\\text{α, β, γ}} \\int_{\\varDelta\\lambda_x} \\mathrm{d}\\lambda S_\\text{R}(\\lambda)P(\\lambda)\\\\\n",
    "&\\approx \\frac{t \\times 10^9}{6.15 A}\\sum_{x=\\text{α, β, γ}}S_\\text{R}(\\lambda_x) P_x, \\quad\\left( \\text{where }P_x \\equiv \\int_{\\varDelta \\lambda_x}\\mathrm{d}\\lambda P(\\lambda) \\right)\n",
    "\\end{align}\n",
    "$$\n",
    "\n",
    "where, $S_\\text{R}$ is the spectral response of the red filter and $\\varDelta\\lambda_x$ is a wavelength range near the corresponding emission line.\n",
    "The last line assumes that $S_\\text{R}$ is constant with $S_\\text{R}(\\lambda_x)$ around the corresponding line emission.\n",
    "\n",
    "Applying the above expression to the other color values (G, B), the following linear equation is derived:\n",
    "\n",
    "$$\n",
    "\\begin{pmatrix}\n",
    "D_\\text{R}\\\\\n",
    "D_\\text{G}\\\\\n",
    "D_\\text{B}\\\\\n",
    "\\end{pmatrix}\n",
    "=\\frac{t \\times 10^9}{6.15 A}\n",
    "\\begin{pmatrix}\n",
    "S_\\text{R}(\\lambda_\\text{α}) & S_\\text{R}(\\lambda_\\text{β}) & S_\\text{R}(\\lambda_\\text{γ})\\\\\n",
    "S_\\text{G}(\\lambda_\\text{α}) & S_\\text{G}(\\lambda_\\text{β}) & S_\\text{G}(\\lambda_\\text{γ})\\\\\n",
    "S_\\text{B}(\\lambda_\\text{α}) & S_\\text{B}(\\lambda_\\text{β}) & S_\\text{B}(\\lambda_\\text{γ})\\\\\n",
    "\\end{pmatrix}\n",
    "\\begin{pmatrix}\n",
    "P_\\text{α}\\\\\n",
    "P_\\text{β}\\\\\n",
    "P_\\text{γ}\\\\\n",
    "\\end{pmatrix}.\n",
    "$$\n",
    "\n",
    "Therefore, solving the above linear equation allows us to calculate each incident power.\n"
   ]
  },
  {
   "cell_type": "code",
   "execution_count": null,
   "metadata": {},
   "outputs": [],
   "source": [
    "from pathlib import Path\n",
    "\n",
    "import numpy as np\n",
    "from matplotlib import pyplot as plt\n",
    "from mpl_toolkits.axes_grid1 import ImageGrid\n",
    "\n",
    "from cherab.phix.observer.fast_camera.colour import (\n",
    "    filter_blue,\n",
    "    filter_green,\n",
    "    filter_red,\n",
    "    plot_RGB_filter,\n",
    ")\n",
    "\n",
    "RGB_DATA = Path().cwd().parent / \"data\" / \"experiment\" / \"shot_17393_raw.npy\""
   ]
  },
  {
   "cell_type": "markdown",
   "metadata": {},
   "source": [
    "Plot the RGB sensitivity with Hα, Hβ, Hγ lines\n",
    "---\n",
    "Let us plot RGB sensitivity data which is given by the company."
   ]
  },
  {
   "cell_type": "code",
   "execution_count": null,
   "metadata": {},
   "outputs": [],
   "source": [
    "# wavelength corresponding to each hydrogen balmer line\n",
    "H_ALPHA = (655.6 + 656.8) * 0.5\n",
    "H_BETA = (485.6 + 486.5) * 0.5\n",
    "H_GAMMA = (433.6 + 434.4) * 0.5\n",
    "\n",
    "# text greek letters\n",
    "text_alpha = chr(945)\n",
    "text_beta = chr(946)\n",
    "text_gamma = chr(947)"
   ]
  },
  {
   "cell_type": "code",
   "execution_count": null,
   "metadata": {},
   "outputs": [],
   "source": [
    "fig, ax = plt.subplots(dpi=150)\n",
    "wavelengths = np.linspace(400, 710, 500)\n",
    "\n",
    "# plot sensitivity\n",
    "fig, ax = plot_RGB_filter(wavelengths, fig=fig, ax=ax)\n",
    "ax.legend(loc=\"center right\")\n",
    "\n",
    "# plot hydrogen balmers\n",
    "for wavelength, color, symbol in zip(\n",
    "    [H_ALPHA, H_BETA, H_GAMMA], [\"m\", \"g\", \"b\"], [text_alpha, text_beta, text_gamma]\n",
    "):\n",
    "    ax.plot([wavelength, wavelength], [0, 0.2], color=color, linestyle=\"dashed\", linewidth=0.75)\n",
    "    ax.text(wavelength * 1.005, 0.16, f\"H{symbol}\\n{wavelength:.1f} nm\", color=color)\n",
    "\n",
    "ax.set_ylim(0, 0.19)\n",
    "ax.set_xlim(wavelengths[0], wavelengths[-1]);"
   ]
  },
  {
   "cell_type": "markdown",
   "metadata": {},
   "source": [
    "Convert 12bit RGB data\n",
    "---\n",
    "Let us convert a RGB experimental image to each balmer-series incident power."
   ]
  },
  {
   "cell_type": "markdown",
   "metadata": {},
   "source": [
    "Firstly let's show the original image data."
   ]
  },
  {
   "cell_type": "code",
   "execution_count": null,
   "metadata": {},
   "outputs": [],
   "source": [
    "# Load data\n",
    "rgb_image = np.load(RGB_DATA)\n",
    "\n",
    "# show image\n",
    "fig = plt.figure(dpi=150)\n",
    "grids = ImageGrid(fig, 111, (1, 3), cbar_mode=\"single\", cbar_pad=0.0, axes_pad=0.02)\n",
    "for i, label in enumerate([\"R\", \"G\", \"B\"]):\n",
    "    grids[i].imshow(rgb_image[:, :, i], cmap=\"inferno\", vmax=np.amax(rgb_image), vmin=0)\n",
    "    grids[i].set_title(label)\n",
    "    grids[i].set_xlabel(\"width\")\n",
    "grids[0].set_ylabel(\"height\")\n",
    "cbar = plt.colorbar(grids[0].images[-1], cax=grids.cbar_axes[0])\n",
    "cbar.set_label(\"12bit [a.u.]\")"
   ]
  },
  {
   "attachments": {},
   "cell_type": "markdown",
   "metadata": {},
   "source": [
    "Then, construct a spectrum $\\rightarrow$ RGB converting matrix."
   ]
  },
  {
   "cell_type": "code",
   "execution_count": null,
   "metadata": {},
   "outputs": [],
   "source": [
    "dt = 99e-6  # [sec]\n",
    "A_1px = 20e-6 * 20e-6  # [m^2]\n",
    "\n",
    "# Spectrum [W] -> RGB digital [bit]\n",
    "spectrum_to_rgb = np.array(\n",
    "    [\n",
    "        [filter_red(H_ALPHA), filter_red(H_BETA), filter_red(H_GAMMA)],\n",
    "        [filter_green(H_ALPHA), filter_green(H_BETA), filter_green(H_GAMMA)],\n",
    "        [filter_blue(H_ALPHA), filter_blue(H_BETA), filter_blue(H_GAMMA)],\n",
    "    ],\n",
    "    dtype=np.float64,\n",
    ") * dt / (A_1px * 6.15e-9)"
   ]
  },
  {
   "attachments": {},
   "cell_type": "markdown",
   "metadata": {},
   "source": [
    "Solve the linear equation at each pixel."
   ]
  },
  {
   "cell_type": "code",
   "execution_count": null,
   "metadata": {},
   "outputs": [],
   "source": [
    "spectrum_image = np.zeros_like(rgb_image, dtype=np.float64)\n",
    "\n",
    "for x in range(rgb_image.shape[0]):\n",
    "    for y in range(rgb_image.shape[1]):\n",
    "        spectrum_image[x, y, :] = np.linalg.solve(\n",
    "            spectrum_to_rgb, rgb_image[x, y, :]\n",
    "        )"
   ]
  },
  {
   "attachments": {},
   "cell_type": "markdown",
   "metadata": {},
   "source": [
    "Show the solution"
   ]
  },
  {
   "cell_type": "code",
   "execution_count": null,
   "metadata": {},
   "outputs": [],
   "source": [
    "from matplotlib.colors import CenteredNorm\n",
    "\n",
    "rm_text_alpha = \"\\\\mathrm{α}\"\n",
    "rm_text_beta = \"\\\\mathrm{β}\"\n",
    "rm_text_gamma = \"\\\\mathrm{γ}\"\n",
    "\n",
    "fig = plt.figure(dpi=150)\n",
    "grids = ImageGrid(fig, 111, (1, 3), cbar_mode=\"each\", cbar_pad=0.0, axes_pad=0.7)\n",
    "for i, symbol in enumerate([rm_text_alpha, rm_text_beta, rm_text_gamma]):\n",
    "    grids[i].imshow(spectrum_image[:, :, i] / A_1px, cmap=\"RdBu_r\", norm=CenteredNorm())\n",
    "    grids[i].set_title(f\"$P_{symbol}$\")\n",
    "    grids[i].set_xlabel(\"width\")\n",
    "    cbar = plt.colorbar(grids[i].images[0], cax=grids.cbar_axes[i])\n",
    "grids[0].set_ylabel(\"height\")\n",
    "cbar.set_label(\"Irradiance [W/m$^2$]\")"
   ]
  },
  {
   "attachments": {},
   "cell_type": "markdown",
   "metadata": {},
   "source": [
    "Plot each irradiance values at width 128 px."
   ]
  },
  {
   "cell_type": "code",
   "execution_count": null,
   "metadata": {
    "tags": [
     "nbsphinx-thumbnail"
    ]
   },
   "outputs": [],
   "source": [
    "fig, ax = plt.subplots(dpi=150)\n",
    "for i, color, symbol in zip(range(3), [\"m\", \"g\", \"b\"], [rm_text_alpha, rm_text_beta, rm_text_gamma]):\n",
    "    ax.plot(spectrum_image[:, 128, i] / A_1px, color=color, label=f\"$P_{symbol}$\", zorder=1)\n",
    "\n",
    "ax.axhline(0, color=\"k\", linestyle=\"--\", linewidth=0.7, zorder=0)\n",
    "ax.set_xlim(0, 512)\n",
    "ax.legend()\n",
    "ax.set_xlabel(\"height [px]\")\n",
    "ax.set_ylabel(\"Irradiance [W/m$^2$]\")\n",
    "ax.set_title(\"at width: 128[px]\");"
   ]
  },
  {
   "attachments": {},
   "cell_type": "markdown",
   "metadata": {},
   "source": [
    "The results show that $P_\\text{γ}$ reconstruction did not work well because the negative values dominates.\n",
    "However, the rest of the solutions are relatively reconstructed well."
   ]
  }
 ],
 "metadata": {
  "kernelspec": {
   "display_name": "cherab-phix-dev",
   "language": "python",
   "name": "python3"
  },
  "language_info": {
   "codemirror_mode": {
    "name": "ipython",
    "version": 3
   },
   "file_extension": ".py",
   "mimetype": "text/x-python",
   "name": "python",
   "nbconvert_exporter": "python",
   "pygments_lexer": "ipython3",
   "version": "3.10.13"
  },
  "vscode": {
   "interpreter": {
    "hash": "2725905a4c02db19e04df9b8fdbbe5ec65a73ea52bebaf9474aa1cc98819834c"
   }
  },
  "widgets": {
   "application/vnd.jupyter.widget-state+json": {
    "state": {},
    "version_major": 2,
    "version_minor": 0
   }
  }
 },
 "nbformat": 4,
 "nbformat_minor": 4
}
