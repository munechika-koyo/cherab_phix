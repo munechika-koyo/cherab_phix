{
 "cells": [
  {
   "cell_type": "markdown",
   "metadata": {},
   "source": [
    "Ray-traced images\n",
    "==="
   ]
  },
  {
   "cell_type": "markdown",
   "metadata": {},
   "source": [
    "Here, I simulated the hight speed camera equiped with PHiX using raysect, and considered the reflected light effect by comparing a non-reflected image with normal one."
   ]
  },
  {
   "cell_type": "code",
   "execution_count": null,
   "metadata": {},
   "outputs": [],
   "source": [
    "import os\n",
    "import numpy as np\n",
    "import matplotlib.pyplot as plt\n",
    "from mpl_toolkits.axes_grid1.axes_grid import ImageGrid\n",
    "plt.rcParams[\"figure.dpi\"] = 150\n",
    "plt.rcParams[\"font.size\"] = 13"
   ]
  },
  {
   "cell_type": "markdown",
   "metadata": {},
   "source": [
    "Set file pathes and show the information about ray-tracing conditions."
   ]
  },
  {
   "cell_type": "code",
   "execution_count": null,
   "metadata": {},
   "outputs": [],
   "source": [
    "# path to folder storing ray-traced data\n",
    "w_reflection = \"../data/synthetic_data/2020_07_25_01_51_55\"\n",
    "wo_reflection = \"../data/synthetic_data/2020_07_24_20_39_22_wo_ref/\"\n",
    "\n",
    "# header information\n",
    "with open(os.path.join(w_reflection, \"result.txt\"), \"r\") as f:\n",
    "    print(\"With the effect of reflected light:\\n\")\n",
    "    print(f.read())\n",
    "\n",
    "with open(os.path.join(wo_reflection, \"result.txt\"), \"r\") as f:\n",
    "    print(\"Without the effect of reflected light:\\n\")\n",
    "    print(f.read())\n"
   ]
  },
  {
   "cell_type": "markdown",
   "metadata": {},
   "source": [
    "show the typcal ray-traced image with reflection."
   ]
  },
  {
   "cell_type": "code",
   "execution_count": null,
   "metadata": {},
   "outputs": [],
   "source": [
    "# Load ray-traced images\n",
    "power_wo = np.load(os.path.join(wo_reflection, \"Power.npy\"))\n",
    "power_total = np.load(os.path.join(w_reflection, \"Power.npy\"))\n",
    "power_ref = power_total - power_wo\n",
    "A_1px = (20e-6)**2  # Area of 1 pixel"
   ]
  },
  {
   "cell_type": "code",
   "execution_count": null,
   "metadata": {},
   "outputs": [],
   "source": [
    "fig = plt.figure()\n",
    "vmax = power_total.max() / A_1px\n",
    "vmin = 0.0\n",
    "grid = ImageGrid(fig, 111, nrows_ncols=(1, 1), axes_pad=0.02, label_mode=\"L\", cbar_mode=\"single\", cbar_pad=0)\n",
    "im1 = grid[0].imshow(np.transpose(power_total) / A_1px, cmap=\"jet\", vmax=vmax, vmin=vmin)\n",
    "grid[0].set_xlabel(\"x [px]\")\n",
    "grid[0].set_ylabel(\"y [px]\")\n",
    "grid[0].set_title(\"total\")\n",
    "cbar1 = plt.colorbar(im1, grid.cbar_axes[0])\n",
    "cbar1.set_label(\"Irradiance [W/m$^2$]\")"
   ]
  },
  {
   "cell_type": "markdown",
   "metadata": {},
   "source": [
    "Compare with to w/o reflection light by subtracting without reflection irradiance from total Irradiance.\n",
    "---"
   ]
  },
  {
   "cell_type": "code",
   "execution_count": null,
   "metadata": {
    "tags": [
     "nbsphinx-thumbnail"
    ]
   },
   "outputs": [],
   "source": [
    "fig = plt.figure(figsize=(7, 100))\n",
    "vmax = power_total.max() / A_1px\n",
    "vmin = 0.0\n",
    "grid = ImageGrid(fig, 111, nrows_ncols=(1, 3), axes_pad=0.02, label_mode=\"L\", cbar_mode=\"single\", cbar_pad=0)\n",
    "im1 = grid[0].imshow(np.transpose(power_total) / A_1px, cmap=\"jet\", vmax=vmax, vmin=vmin)\n",
    "im2 = grid[1].imshow(np.transpose(power_wo) / A_1px, cmap=\"jet\", vmax=vmax, vmin=vmin)\n",
    "im3 = grid[2].imshow(np.transpose(power_ref) / A_1px, cmap=\"jet\", vmax=vmax, vmin=vmin)\n",
    "grid[0].set_xlabel(\"x [px]\")\n",
    "grid[0].set_ylabel(\"y [px]\")\n",
    "grid[0].set_title(\"total\")\n",
    "grid[1].set_title(\"w/o Reflection\")\n",
    "grid[2].set_title(\"Reflection only\")\n",
    "cbar1 = plt.colorbar(im1, grid.cbar_axes[0])\n",
    "cbar1.set_label(\"Irradiance [W/m$^2$]\")"
   ]
  },
  {
   "cell_type": "markdown",
   "metadata": {},
   "source": [
    "Let's compare values which is retrieved by slicing the above images either at cetain x or y line.\n",
    "The slicing points is corresponding to the pixel having the maximum value."
   ]
  },
  {
   "cell_type": "code",
   "execution_count": null,
   "metadata": {},
   "outputs": [],
   "source": [
    "max_point = np.unravel_index(np.argmax(power_total), power_total.shape)"
   ]
  },
  {
   "cell_type": "code",
   "execution_count": null,
   "metadata": {},
   "outputs": [],
   "source": [
    "fig, ax = plt.subplots()\n",
    "ypx = max_point[1] + 1\n",
    "# ypx = 256\n",
    "ax.plot(power_total[:, ypx-1] / A_1px, label=\"total\")\n",
    "ax.plot(power_wo[:, ypx-1] / A_1px, label=\"w/o reflection\")\n",
    "ax.plot(power_ref[:, ypx-1] / A_1px, label=\"Reflection only\")\n",
    "ax.legend();\n",
    "ax.set_ylabel(\"Irradiance [W/m$^2$]\")\n",
    "ax.set_xlabel(\"x [px]\")\n",
    "ax.set_title(f\"y = {ypx} px\")\n",
    "# ax.set_ylim(0, 40)\n",
    "ax.set_xlim(0, power_total.shape[0]-1);\n",
    "ax.set_ylim(0, 90);\n",
    "# fig.set_size_inches(6,5)"
   ]
  },
  {
   "cell_type": "code",
   "execution_count": null,
   "metadata": {},
   "outputs": [],
   "source": [
    "fig, ax = plt.subplots()\n",
    "xpx = max_point[0] + 1\n",
    "ax.plot(power_total[xpx-1, :] / A_1px, label=\"total\")\n",
    "ax.plot(power_wo[xpx-1, :] / A_1px, label=\"w/o reflection\")\n",
    "ax.plot(power_ref[xpx-1, :] / A_1px, label=\"Reflection only\")\n",
    "ax.legend();\n",
    "ax.set_ylabel(\"Irradiance [W/m$^2$]\")\n",
    "ax.set_xlabel(\"y [px]\")\n",
    "ax.set_title(f\"x = {xpx} px\")\n",
    "# ax.set_ylim(0, 40)\n",
    "ax.set_xlim(0, power_total.shape[1]-1);\n",
    "ax.set_ylim(0, 90);\n",
    "# fig.set_size_inches(6,5)"
   ]
  }
 ],
 "metadata": {
  "celltoolbar": "Tags",
  "kernelspec": {
   "display_name": "Python 3 (ipykernel)",
   "language": "python",
   "name": "python3"
  },
  "language_info": {
   "codemirror_mode": {
    "name": "ipython",
    "version": 3
   },
   "file_extension": ".py",
   "mimetype": "text/x-python",
   "name": "python",
   "nbconvert_exporter": "python",
   "pygments_lexer": "ipython3",
   "version": "3.9.6"
  }
 },
 "nbformat": 4,
 "nbformat_minor": 4
}
