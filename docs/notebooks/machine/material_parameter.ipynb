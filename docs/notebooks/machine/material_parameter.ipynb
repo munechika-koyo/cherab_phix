{
 "cells": [
  {
   "attachments": {},
   "cell_type": "markdown",
   "metadata": {},
   "source": [
    "Material characteristics of PHiX in-vessel components\n",
    "==="
   ]
  },
  {
   "attachments": {},
   "cell_type": "markdown",
   "metadata": {},
   "source": [
    "Rough Metal\n",
    "---\n",
    "Rough metal material have complex refractive index:\n",
    "$$\n",
    "n^* = n + ik.\n",
    "$$\n",
    "Here, the real part $n$ is the refractive index, while the imaginary part $k$ is called the\n",
    "extinction or absorption coefficient.\n",
    "We show their parameters in range of visible light wavelengths."
   ]
  },
  {
   "cell_type": "code",
   "execution_count": null,
   "metadata": {},
   "outputs": [],
   "source": [
    "import numpy as np\n",
    "from matplotlib import pyplot as plt\n",
    "from raysect.optical.library import Aluminium\n",
    "\n",
    "from cherab.phix.machine.material import PCTFE, SUS316L\n",
    "\n",
    "plt.rcParams[\"font.size\"] = 12\n",
    "plt.rcParams[\"figure.dpi\"] = 150\n",
    "\n",
    "\n",
    "aluminium = Aluminium()\n",
    "sus316l = SUS316L()\n",
    "teflon = PCTFE()"
   ]
  },
  {
   "cell_type": "code",
   "execution_count": null,
   "metadata": {},
   "outputs": [],
   "source": [
    "# plot index & extinction of each materials\n",
    "wavelength = np.arange(375, 780, 10)\n",
    "plt.plot(\n",
    "    wavelength, [aluminium.index(x) for x in wavelength], label=\"index\", color=\"C1\"\n",
    ")\n",
    "plt.plot(\n",
    "    wavelength,\n",
    "    [aluminium.extinction(x) for x in wavelength],\n",
    "    label=\"extinction\",\n",
    "    color=\"C0\",\n",
    ")\n",
    "plt.legend()\n",
    "plt.xlabel(\"wavelnegth [nm]\")\n",
    "plt.title(\"Aluminium refractive prameters\");"
   ]
  },
  {
   "cell_type": "code",
   "execution_count": null,
   "metadata": {
    "tags": [
     "nbsphinx-thumbnail"
    ]
   },
   "outputs": [],
   "source": [
    "plt.plot(wavelength, [sus316l.index(x) for x in wavelength], label=\"index\", color=\"C1\")\n",
    "plt.plot(\n",
    "    wavelength,\n",
    "    [sus316l.extinction(x) for x in wavelength],\n",
    "    label=\"extinction\",\n",
    "    color=\"C0\",\n",
    ")\n",
    "plt.legend()\n",
    "plt.xlabel(\"wavelnegth [nm]\")\n",
    "plt.title(\"SUS316L refractive prameters\");"
   ]
  },
  {
   "cell_type": "code",
   "execution_count": null,
   "metadata": {},
   "outputs": [],
   "source": [
    "# compared to each of them\n",
    "plt.plot(wavelength, [aluminium.index(x) for x in wavelength], label=\"Al\")\n",
    "plt.plot(wavelength, [sus316l.index(x) for x in wavelength], label=\"SUS316L\")\n",
    "plt.legend()\n",
    "plt.xlabel(\"wavelnegth [nm]\")\n",
    "plt.title(\"refractive index\");"
   ]
  },
  {
   "cell_type": "code",
   "execution_count": null,
   "metadata": {},
   "outputs": [],
   "source": [
    "# compared to each of them\n",
    "plt.plot(wavelength, [aluminium.extinction(x) for x in wavelength], label=\"Al\")\n",
    "plt.plot(wavelength, [sus316l.extinction(x) for x in wavelength], label=\"SUS316L\")\n",
    "plt.legend()\n",
    "plt.xlabel(\"wavelnegth [nm]\")\n",
    "plt.title(\"refractive extinction\");"
   ]
  },
  {
   "attachments": {},
   "cell_type": "markdown",
   "metadata": {},
   "source": [
    "Dielectric material\n",
    "---\n",
    "Dielectric material have refractive index and transmission.\n",
    "Here, we show the example of teflon (Polychlorotrifluoroethylene)'s parameters."
   ]
  },
  {
   "cell_type": "code",
   "execution_count": null,
   "metadata": {},
   "outputs": [],
   "source": [
    "plt.plot(wavelength, [teflon.index(x) for x in wavelength], label=\"index\", color=\"C1\")\n",
    "plt.plot(\n",
    "    wavelength,\n",
    "    [teflon.transmission(x) for x in wavelength],\n",
    "    label=\"transmission\",\n",
    "    color=\"C0\",\n",
    ")\n",
    "plt.legend()\n",
    "plt.xlabel(\"wavelnegth [nm]\")\n",
    "plt.title(\"Teflon refractive prameters\");"
   ]
  }
 ],
 "metadata": {
  "celltoolbar": "Tags",
  "kernelspec": {
   "display_name": "cherab-phix-dev",
   "language": "python",
   "name": "python3"
  },
  "language_info": {
   "codemirror_mode": {
    "name": "ipython",
    "version": 3
   },
   "file_extension": ".py",
   "mimetype": "text/x-python",
   "name": "python",
   "nbconvert_exporter": "python",
   "pygments_lexer": "ipython3",
   "version": "3.9.15 | packaged by conda-forge | (main, Nov 22 2022, 15:55:03) \n[GCC 10.4.0]"
  },
  "vscode": {
   "interpreter": {
    "hash": "2725905a4c02db19e04df9b8fdbbe5ec65a73ea52bebaf9474aa1cc98819834c"
   }
  }
 },
 "nbformat": 4,
 "nbformat_minor": 4
}
