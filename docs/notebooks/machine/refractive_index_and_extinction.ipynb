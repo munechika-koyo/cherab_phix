{
 "cells": [
  {
   "cell_type": "markdown",
   "metadata": {},
   "source": [
    "Refractive index and extinction of PHiX in-vessel components\n",
    "==="
   ]
  },
  {
   "cell_type": "code",
   "execution_count": null,
   "metadata": {},
   "outputs": [],
   "source": [
    "import numpy as np\n",
    "from matplotlib import pyplot as plt\n",
    "\n",
    "from raysect.optical import World\n",
    "from raysect.optical.library import Aluminium\n",
    "from cherab.phix.machine import import_phix_mesh\n",
    "\n",
    "plt.rcParams[\"font.size\"] = 12\n",
    "plt.rcParams[\"figure.dpi\"] = 200\n",
    "\n",
    "world = World()\n",
    "aluminium = Aluminium()\n",
    "mesh = import_phix_mesh(world)"
   ]
  },
  {
   "cell_type": "code",
   "execution_count": null,
   "metadata": {},
   "outputs": [],
   "source": [
    "# plot index & extinction of each materials\n",
    "wavelength = np.arange(375, 780, 10)\n",
    "plt.plot(wavelength, [aluminium.index(x) for x in wavelength], label=\"index\", color=\"C1\")\n",
    "plt.plot(wavelength, [aluminium.extinction(x) for x in wavelength], label=\"extinction\", color=\"C0\")\n",
    "plt.legend()\n",
    "plt.xlabel(\"wavelnegth [nm]\");\n",
    "plt.title(\"Aluminium refractive prameters\");"
   ]
  },
  {
   "cell_type": "code",
   "execution_count": null,
   "metadata": {
    "tags": [
     "nbsphinx-thumbnail"
    ]
   },
   "outputs": [],
   "source": [
    "plt.plot(wavelength, [mesh[0].material.index(x) for x in wavelength], label=\"index\", color=\"C1\")\n",
    "plt.plot(wavelength, [mesh[0].material.extinction(x) for x in wavelength], label=\"extinction\", color=\"C0\")\n",
    "plt.legend()\n",
    "plt.xlabel(\"wavelnegth [nm]\");\n",
    "plt.title(\"SUS316L refractive prameters\");"
   ]
  },
  {
   "cell_type": "code",
   "execution_count": null,
   "metadata": {},
   "outputs": [],
   "source": [
    "# compared to each of them\n",
    "plt.plot(wavelength, [aluminium.index(x) for x in wavelength], label=\"Al\")\n",
    "plt.plot(wavelength, [mesh[0].material.index(x) for x in wavelength], label=\"SUS316L\")\n",
    "plt.legend()\n",
    "plt.xlabel(\"wavelnegth [nm]\");\n",
    "plt.title(\"refractive index\");"
   ]
  },
  {
   "cell_type": "code",
   "execution_count": null,
   "metadata": {},
   "outputs": [],
   "source": [
    "# compared to each of them\n",
    "plt.plot(wavelength, [aluminium.extinction(x) for x in wavelength], label=\"Al\")\n",
    "plt.plot(wavelength, [mesh[0].material.extinction(x) for x in wavelength], label=\"SUS316L\")\n",
    "plt.legend()\n",
    "plt.xlabel(\"wavelnegth [nm]\");\n",
    "plt.title(\"refractive extinction\");"
   ]
  }
 ],
 "metadata": {
  "celltoolbar": "Tags",
  "kernelspec": {
   "display_name": "Python 3 (ipykernel)",
   "language": "python",
   "name": "python3"
  },
  "language_info": {
   "codemirror_mode": {
    "name": "ipython",
    "version": 3
   },
   "file_extension": ".py",
   "mimetype": "text/x-python",
   "name": "python",
   "nbconvert_exporter": "python",
   "pygments_lexer": "ipython3",
   "version": "3.9.5"
  }
 },
 "nbformat": 4,
 "nbformat_minor": 4
}
