{
 "cells": [
  {
   "cell_type": "markdown",
   "metadata": {},
   "source": [
    "PHiX Equilibrium profiles\n",
    "==="
   ]
  },
  {
   "cell_type": "markdown",
   "metadata": {},
   "source": [
    "Using the Tokamak Simulation Code (TSC) enables to produce the PHiX's equilibrium information such as magnetic flux surface, current flux, etc.\n",
    "Here, let us show some results under typical coil current situation."
   ]
  },
  {
   "cell_type": "code",
   "execution_count": null,
   "metadata": {},
   "outputs": [],
   "source": [
    "from cherab.tools.equilibrium import plot_equilibrium\n",
    "from cherab.phix.plasma import TSCEquilibrium\n",
    "from matplotlib import pyplot as plt\n",
    "plt.rcParams[\"figure.dpi\"] = 100"
   ]
  },
  {
   "cell_type": "markdown",
   "metadata": {},
   "source": [
    "TSC data is stored in \"../cherab/phix/plasma/data/**\" where each folder named as \"phix10\", \"phix12\", etc. has calculated data.\n",
    "Users can select to which folder having data is suitable."
   ]
  },
  {
   "cell_type": "code",
   "execution_count": null,
   "metadata": {},
   "outputs": [],
   "source": [
    "eq = TSCEquilibrium(folder=\"phix10\")\n",
    "eq.header"
   ]
  },
  {
   "cell_type": "raw",
   "metadata": {
    "raw_mimetype": "text/restructuredtext"
   },
   "source": [
    "Using :obj:`~cherab.tools.equilibrium.plot.plot_equilibrium` function defined by the `cherab` package allows us to show some plots accrding to equilibrium information."
   ]
  },
  {
   "cell_type": "code",
   "execution_count": null,
   "metadata": {},
   "outputs": [],
   "source": [
    "plot_equilibrium(eq, detail=True, resolution=0.005)  # resolution = 5mm"
   ]
  },
  {
   "cell_type": "markdown",
   "metadata": {},
   "source": [
    "The case of the different coil current condition was applied as follows:"
   ]
  },
  {
   "cell_type": "code",
   "execution_count": null,
   "metadata": {},
   "outputs": [],
   "source": [
    "eq2 = TSCEquilibrium(folder=\"phix14\")\n",
    "eq2.header"
   ]
  },
  {
   "cell_type": "code",
   "execution_count": null,
   "metadata": {
    "tags": [
     "nbsphinx-thumbnail"
    ]
   },
   "outputs": [],
   "source": [
    "plot_equilibrium(eq2, resolution=0.005)"
   ]
  }
 ],
 "metadata": {
  "celltoolbar": "Raw Cell Format",
  "interpreter": {
   "hash": "fd8d0377ff5414bcbd0090ad2bb101334c595bce345620028f89b8b3ee7c9946"
  },
  "kernelspec": {
   "display_name": "Python 3",
   "language": "python",
   "name": "python3"
  },
  "language_info": {
   "codemirror_mode": {
    "name": "ipython",
    "version": 3
   },
   "file_extension": ".py",
   "mimetype": "text/x-python",
   "name": "python",
   "nbconvert_exporter": "python",
   "pygments_lexer": "ipython3",
   "version": "3.9.6"
  }
 },
 "nbformat": 4,
 "nbformat_minor": 2
}
