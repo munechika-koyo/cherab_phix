{
 "cells": [
  {
   "attachments": {},
   "cell_type": "markdown",
   "metadata": {},
   "source": [
    "Calculate RayTransfer Matrix (RTM) with PHiX Fast Camera\n",
    "===\n",
    "To show the RTM values, we calculate a certain pixel's RTM."
   ]
  },
  {
   "cell_type": "code",
   "execution_count": null,
   "metadata": {},
   "outputs": [],
   "source": [
    "import datetime\n",
    "from pathlib import Path\n",
    "from textwrap import dedent\n",
    "\n",
    "import numpy as np\n",
    "from cherab.tools.raytransfer import RayTransferPipeline2D\n",
    "from matplotlib import pyplot as plt\n",
    "from raysect.core.scenegraph import print_scenegraph\n",
    "from raysect.optical import World\n",
    "from raysect.optical.observer import FullFrameSampler2D\n",
    "\n",
    "from cherab.phix.machine import import_phix_mesh\n",
    "from cherab.phix.observer import import_phix_camera\n",
    "from cherab.phix.plasma import import_equilibrium\n",
    "from cherab.phix.tools import profile_1D_to_2D\n",
    "from cherab.phix.tools.raytransfer import import_phix_rtc\n",
    "from cherab.phix.tools.visualize import show_phix_profiles"
   ]
  },
  {
   "attachments": {},
   "cell_type": "markdown",
   "metadata": {},
   "source": [
    "Create scene world\n",
    "---"
   ]
  },
  {
   "cell_type": "code",
   "execution_count": null,
   "metadata": {},
   "outputs": [],
   "source": [
    "# generate scene world\n",
    "world = World()\n",
    "\n",
    "# import phix equilibrium\n",
    "eq = import_equilibrium()\n",
    "\n",
    "# import phix machine configuration\n",
    "mesh = import_phix_mesh(world, reflection=True)\n",
    "\n",
    "# import phix raytrasfer cylinder object\n",
    "rtc = import_phix_rtc(world, equilibrium=eq)\n",
    "\n",
    "# import phix camera\n",
    "camera = import_phix_camera(world)"
   ]
  },
  {
   "attachments": {},
   "cell_type": "markdown",
   "metadata": {},
   "source": [
    "Define Observer pipeline\n",
    "---"
   ]
  },
  {
   "cell_type": "code",
   "execution_count": null,
   "metadata": {},
   "outputs": [],
   "source": [
    "rtp = RayTransferPipeline2D(name=\"rtm\")\n",
    "\n",
    "# set camera's pipeline property\n",
    "camera.pipelines = [rtp]"
   ]
  },
  {
   "attachments": {},
   "cell_type": "markdown",
   "metadata": {},
   "source": [
    "Set camera parameters\n",
    "---\n",
    "To focus one pixel, the `mask` array is defined."
   ]
  },
  {
   "cell_type": "code",
   "execution_count": null,
   "metadata": {},
   "outputs": [],
   "source": [
    "focus_pixel = (64, 192)\n",
    "mask = np.zeros(camera.pixels, dtype=bool)\n",
    "mask[focus_pixel[0] - 1, focus_pixel[1] - 1] = True"
   ]
  },
  {
   "cell_type": "code",
   "execution_count": null,
   "metadata": {},
   "outputs": [],
   "source": [
    "camera.frame_sampler = FullFrameSampler2D(mask=mask)\n",
    "camera.min_wavelength = 655.6\n",
    "camera.max_wavelength = 656.8\n",
    "camera.spectral_rays = 1\n",
    "camera.spectral_bins = rtc.bins\n",
    "camera.per_pixel_samples = 10\n",
    "camera.lens_samples = 20"
   ]
  },
  {
   "attachments": {},
   "cell_type": "markdown",
   "metadata": {},
   "source": [
    "Execute ray-tracing\n",
    "---"
   ]
  },
  {
   "cell_type": "code",
   "execution_count": null,
   "metadata": {},
   "outputs": [],
   "source": [
    "camera.observe()"
   ]
  },
  {
   "attachments": {},
   "cell_type": "markdown",
   "metadata": {},
   "source": [
    "Visualize RayTransfer Matrix in $r - z$ plane\n",
    "---"
   ]
  },
  {
   "attachments": {},
   "cell_type": "markdown",
   "metadata": {},
   "source": [
    "Convert RTM shape to $r-z$ poloidal 2D shape"
   ]
  },
  {
   "cell_type": "code",
   "execution_count": null,
   "metadata": {},
   "outputs": [],
   "source": [
    "rtm_profile = profile_1D_to_2D(rtp.matrix.sum(axis=0).sum(axis=0), rtc=rtc)"
   ]
  },
  {
   "attachments": {},
   "cell_type": "markdown",
   "metadata": {},
   "source": [
    "Get rid of 0 value to show the RTM profile logarithumically"
   ]
  },
  {
   "cell_type": "code",
   "execution_count": null,
   "metadata": {},
   "outputs": [],
   "source": [
    "rtm_min = rtm_profile[rtm_profile > 0.0].min()\n",
    "rtm_profile[rtm_profile <= 0.0] = rtm_min * 0.9"
   ]
  },
  {
   "cell_type": "code",
   "execution_count": null,
   "metadata": {
    "tags": [
     "nbsphinx-thumbnail"
    ]
   },
   "outputs": [],
   "source": [
    "fig = plt.figure(dpi=150)\n",
    "fig, axes = show_phix_profiles(\n",
    "    rtm_profile,\n",
    "    fig=fig,\n",
    "    rtc=rtc,\n",
    "    clabel=\"RTM [m$^3\\\\cdot$ str]\",\n",
    "    plot_mode=\"log\",\n",
    "    scientific_notation=False,\n",
    ")"
   ]
  }
 ],
 "metadata": {
  "kernelspec": {
   "display_name": "cherab-phix-dev",
   "language": "python",
   "name": "python3"
  },
  "language_info": {
   "codemirror_mode": {
    "name": "ipython",
    "version": 3
   },
   "file_extension": ".py",
   "mimetype": "text/x-python",
   "name": "python",
   "nbconvert_exporter": "python",
   "pygments_lexer": "ipython3",
   "version": "3.9.15 | packaged by conda-forge | (main, Nov 22 2022, 15:55:03) \n[GCC 10.4.0]"
  },
  "orig_nbformat": 4,
  "vscode": {
   "interpreter": {
    "hash": "2725905a4c02db19e04df9b8fdbbe5ec65a73ea52bebaf9474aa1cc98819834c"
   }
  }
 },
 "nbformat": 4,
 "nbformat_minor": 2
}
